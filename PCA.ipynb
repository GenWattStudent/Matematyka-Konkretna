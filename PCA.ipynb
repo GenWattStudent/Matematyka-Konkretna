{
 "cells": [
  {
   "cell_type": "markdown",
   "id": "37c7474c",
   "metadata": {},
   "source": [
    "# Analiza PCA - Wariant 4\n",
    "\n",
    "Zadanie: Obliczenie środka, osi głównych oraz kąta obrotu danych dwuwymiarowych z pliku `4.csv`"
   ]
  },
  {
   "cell_type": "code",
   "execution_count": 14,
   "id": "5f95b570",
   "metadata": {},
   "outputs": [],
   "source": [
    "import matplotlib.pyplot as plt\n",
    "import numpy as np\n",
    "import pandas as pd\n",
    "\n",
    "plt.rcParams['figure.figsize'] = [16, 8]"
   ]
  },
  {
   "cell_type": "markdown",
   "id": "aa1fd538",
   "metadata": {},
   "source": [
    "## Wczytanie danych z pliku CSV"
   ]
  },
  {
   "cell_type": "code",
   "execution_count": 15,
   "id": "fae4e9e5",
   "metadata": {},
   "outputs": [
    {
     "name": "stdout",
     "output_type": "stream",
     "text": [
      "Liczba punktów: 2\n",
      "Kształt danych: (10000, 2)\n"
     ]
    }
   ],
   "source": [
    "# Wczytanie danych z pliku CSV\n",
    "data = pd.read_csv('4.csv', header=None)\n",
    "X_data = data.values  # Konwersja do numpy array\n",
    "\n",
    "# Transpozycja danych - pierwszy wiersz to współrzędne X, drugi to Y\n",
    "X = X_data.T\n",
    "\n",
    "n_points = X.shape[1]\n",
    "print(f\"Liczba punktów: {n_points}\")\n",
    "print(f\"Kształt danych: {X.shape}\")"
   ]
  },
  {
   "cell_type": "markdown",
   "id": "f0521975",
   "metadata": {},
   "source": [
    "## Wizualizacja oryginalnych danych"
   ]
  },
  {
   "cell_type": "code",
   "execution_count": 16,
   "id": "42115f97",
   "metadata": {},
   "outputs": [
    {
     "data": {
      "image/png": "[encoded data removed]",
      "text/plain": [
       "<Figure size 1600x800 with 1 Axes>"
      ]
     },
     "metadata": {},
     "output_type": "display_data"
    }
   ],
   "source": [
    "fig = plt.figure()\n",
    "ax1 = fig.add_subplot(121)\n",
    "ax1.plot(X[0,:], X[1,:], '.', color='k', markersize=2)\n",
    "ax1.set_title('Oryginalne dane')\n",
    "ax1.grid()\n",
    "ax1.set_xlabel('X')\n",
    "ax1.set_ylabel('Y')\n",
    "ax1.axis('equal')\n",
    "plt.show()"
   ]
  },
  {
   "cell_type": "markdown",
   "id": "cb3bfda8",
   "metadata": {},
   "source": [
    "## Analiza PCA\n",
    "\n",
    "### 1. Obliczenie środka danych (średniej)"
   ]
  },
  {
   "cell_type": "code",
   "execution_count": null,
   "id": "2ad0e7fd",
   "metadata": {},
   "outputs": [
    {
     "name": "stdout",
     "output_type": "stream",
     "text": [
      "Środek danych (mean):\n",
      "  X_mean = 1.423998\n",
      "  Y_mean = 0.964422\n"
     ]
    }
   ],
   "source": [
    "Xavg = np.mean(X, axis=1)\n",
    "print(f\"Środek danych (mean):\")\n",
    "print(f\"  X_mean = {Xavg[0]:.6f}\")\n",
    "print(f\"  Y_mean = {Xavg[1]:.6f}\")"
   ]
  },
  {
   "cell_type": "markdown",
   "id": "ef4f0753",
   "metadata": {},
   "source": [
    "### 2. Centrowanie danych (odejmowanie średniej)"
   ]
  },
  {
   "cell_type": "code",
   "execution_count": null,
   "id": "974c5d69",
   "metadata": {},
   "outputs": [
    {
     "name": "stdout",
     "output_type": "stream",
     "text": [
      "Dane po centrowaniu - kształt: (10000, 2)\n"
     ]
    }
   ],
   "source": [
    "B = X - np.tile(Xavg, (n_points, 1)).T\n",
    "print(f\"Dane po centrowaniu - kształt: {B.shape}\")"
   ]
  },
  {
   "cell_type": "markdown",
   "id": "5a754f5c",
   "metadata": {},
   "source": [
    "### 3. Rozkład SVD i wyznaczenie składowych głównych"
   ]
  },
  {
   "cell_type": "code",
   "execution_count": null,
   "id": "2f6dfa23",
   "metadata": {},
   "outputs": [
    {
     "name": "stdout",
     "output_type": "stream",
     "text": [
      "\n",
      "Macierz U (kierunki składowych głównych):\n",
      "[[-8.01788171e-03  9.93168792e-01]\n",
      " [-2.66764410e-03 -5.60082434e-05]\n",
      " [-4.31410294e-03  1.19037182e-04]\n",
      " ...\n",
      " [-1.45351938e-02  7.31446887e-04]\n",
      " [ 1.05432696e-02  4.04544641e-04]\n",
      " [ 6.91025373e-04  8.88186638e-04]]\n",
      "\n",
      "Wartości osobliwe S (odchylenia standardowe wzdłuż składowych głównych):\n",
      "[1.38950756e+02 6.40414182e-14]\n",
      "\n",
      "Wariancja wyjaśniana przez składowe:\n",
      "  PC1: 100.00%\n",
      "  PC2: 0.00%\n"
     ]
    }
   ],
   "source": [
    "U, S, VT = np.linalg.svd(B / np.sqrt(n_points), full_matrices=False)\n",
    "\n",
    "print(f\"\\nMacierz U (kierunki składowych głównych):\")\n",
    "print(U)\n",
    "print(f\"\\nWartości osobliwe S (odchylenia standardowe wzdłuż składowych głównych):\")\n",
    "print(S)\n",
    "\n",
    "# Obliczenie wariancji wyjaśnianej przez każdą składową\n",
    "explained_variance = S**2\n",
    "variance_ratio = explained_variance / explained_variance.sum()\n",
    "print(f\"\\nWariancja wyjaśniana przez składowe:\")\n",
    "print(f\"  PC1: {variance_ratio[0]*100:.2f}%\")\n",
    "print(f\"  PC2: {variance_ratio[1]*100:.2f}%\")"
   ]
  },
  {
   "cell_type": "markdown",
   "id": "277b20a5",
   "metadata": {},
   "source": [
    "### 4. Obliczenie kąta obrotu głównej osi"
   ]
  },
  {
   "cell_type": "code",
   "execution_count": null,
   "id": "948a02dd",
   "metadata": {},
   "outputs": [
    {
     "name": "stdout",
     "output_type": "stream",
     "text": [
      "\n",
      "Kąt obrotu głównej osi:\n",
      "  θ = -2.820402 rad\n",
      "  θ = -161.60°\n",
      "\n",
      "Osi główne (wektory własne):\n",
      "  Oś 1 (PC1): [-0.008018, -0.002668]\n",
      "  Oś 2 (PC2): [0.993169, -0.000056]\n",
      "\n",
      "Długości osi (wartości osobliwe):\n",
      "  Długość osi 1: 138.950756\n",
      "  Długość osi 2: 0.000000\n"
     ]
    }
   ],
   "source": [
    "rotation_angle = np.arctan2(U[1, 0], U[0, 0])\n",
    "rotation_angle_deg = np.degrees(rotation_angle)\n",
    "\n",
    "print(f\"\\nKąt obrotu głównej osi:\")\n",
    "print(f\"  θ = {rotation_angle:.6f} rad\")\n",
    "print(f\"  θ = {rotation_angle_deg:.2f}°\")\n",
    "\n",
    "print(f\"\\nOsi główne (wektory własne):\")\n",
    "print(f\"  Oś 1 (PC1): [{U[0,0]:8.6f}, {U[1,0]:8.6f}]\")\n",
    "print(f\"  Oś 2 (PC2): [{U[0,1]:8.6f}, {U[1,1]:8.6f}]\")\n",
    "\n",
    "print(f\"\\nDługości osi (wartości osobliwe):\")\n",
    "print(f\"  Długość osi 1: {S[0]:.6f}\")\n",
    "print(f\"  Długość osi 2: {S[1]:.6f}\")"
   ]
  },
  {
   "cell_type": "markdown",
   "id": "4ea5efd5",
   "metadata": {},
   "source": [
    "## Wizualizacja wyników PCA"
   ]
  },
  {
   "cell_type": "code",
   "execution_count": 21,
   "id": "c0b5631f",
   "metadata": {},
   "outputs": [
    {
     "data": {
      "image/png": "[encoded data removed]",
      "text/plain": [
       "<Figure size 1600x800 with 2 Axes>"
      ]
     },
     "metadata": {},
     "output_type": "display_data"
    }
   ],
   "source": [
    "fig = plt.figure(figsize=(16, 8))\n",
    "\n",
    "# Lewy wykres - oryginalne dane\n",
    "ax1 = fig.add_subplot(121)\n",
    "ax1.plot(X[0,:], X[1,:], '.', color='k', markersize=2)\n",
    "ax1.set_title('Oryginalne dane')\n",
    "ax1.grid()\n",
    "ax1.set_xlabel('X')\n",
    "ax1.set_ylabel('Y')\n",
    "ax1.axis('equal')\n",
    "\n",
    "# Prawy wykres - dane z nałożonymi składowymi głównymi\n",
    "ax2 = fig.add_subplot(122)\n",
    "ax2.plot(X[0,:], X[1,:], '.', color='k', markersize=2, label='Dane')\n",
    "ax2.grid()\n",
    "ax2.axis('equal')\n",
    "ax2.set_title('Dane z nałożoną analizą PCA')\n",
    "ax2.set_xlabel('X')\n",
    "ax2.set_ylabel('Y')\n",
    "\n",
    "# Rysowanie elips reprezentujących przedziały ufności (1σ, 2σ, 3σ)\n",
    "theta = 2 * np.pi * np.arange(0, 1, 0.01)\n",
    "\n",
    "# Elipsy 1σ, 2σ, 3σ\n",
    "for i, (std_multiplier, color_shade) in enumerate([(1, 'r'), (2, 'orange'), (3, 'yellow')]):\n",
    "    Xstd = U @ np.diag(S) @ np.array([np.cos(theta), np.sin(theta)])\n",
    "    ax2.plot(Xavg[0] + std_multiplier * Xstd[0,:], \n",
    "             Xavg[1] + std_multiplier * Xstd[1,:], \n",
    "             '-', color=color_shade, linewidth=2, \n",
    "             label=f'{std_multiplier}σ confidence')\n",
    "\n",
    "# Rysowanie składowych głównych (wektorów PC1 i PC2)\n",
    "# PC1 - pierwsza składowa główna\n",
    "ax2.arrow(Xavg[0], Xavg[1], U[0,0]*S[0], U[1,0]*S[0], \n",
    "          head_width=0.15, head_length=0.2, fc='cyan', ec='cyan', \n",
    "          linewidth=3, label='PC1 (główna oś)')\n",
    "\n",
    "# PC2 - druga składowa główna\n",
    "ax2.arrow(Xavg[0], Xavg[1], U[0,1]*S[1], U[1,1]*S[1], \n",
    "          head_width=0.15, head_length=0.2, fc='blue', ec='blue', \n",
    "          linewidth=3, label='PC2 (druga oś)')\n",
    "\n",
    "# Punkt środkowy\n",
    "ax2.plot(Xavg[0], Xavg[1], 'ro', markersize=10, label='Średnia')\n",
    "\n",
    "ax2.legend()\n",
    "plt.tight_layout()\n",
    "plt.show()"
   ]
  },
  {
   "cell_type": "markdown",
   "id": "05358e2f",
   "metadata": {},
   "source": [
    "## Podsumowanie wyników\n",
    "\n",
    "**Wyniki analizy PCA dla danych z pliku `4.csv`:**"
   ]
  },
  {
   "cell_type": "code",
   "execution_count": 22,
   "id": "6e461541",
   "metadata": {},
   "outputs": [
    {
     "name": "stdout",
     "output_type": "stream",
     "text": [
      "============================================================\n",
      "PODSUMOWANIE ANALIZY PCA - WARIANT 4\n",
      "============================================================\n",
      "\n",
      "1. ŚRODEK DANYCH (ŚREDNIA):\n",
      "   μ = [1.423998, 0.964422]\n",
      "\n",
      "2. OSIE GŁÓWNE (WEKTORY WŁASNE - KIERUNKI):\n",
      "   Pierwsza oś główna (PC1):  [-0.008018, -0.002668]\n",
      "   Druga oś główna (PC2):     [0.993169, -0.000056]\n",
      "\n",
      "3. DŁUGOŚCI OSI (WARTOŚCI OSOBLIWE):\n",
      "   Długość osi PC1: 138.950756\n",
      "   Długość osi PC2: 0.000000\n",
      "\n",
      "4. KĄT OBROTU GŁÓWNEJ OSI:\n",
      "   θ = -2.820402 rad\n",
      "   θ = -161.60°\n",
      "\n",
      "5. WARIANCJA WYJAŚNIANA:\n",
      "   PC1: 100.00%\n",
      "   PC2: 0.00%\n",
      "\n",
      "6. LICZBA PUNKTÓW: 2\n",
      "============================================================\n"
     ]
    }
   ],
   "source": [
    "print(\"=\"*60)\n",
    "print(\"PODSUMOWANIE ANALIZY PCA - WARIANT 4\")\n",
    "print(\"=\"*60)\n",
    "print(f\"\\n1. ŚRODEK DANYCH (ŚREDNIA):\")\n",
    "print(f\"   μ = [{Xavg[0]:.6f}, {Xavg[1]:.6f}]\")\n",
    "\n",
    "print(f\"\\n2. OSIE GŁÓWNE (WEKTORY WŁASNE - KIERUNKI):\")\n",
    "print(f\"   Pierwsza oś główna (PC1):  [{U[0,0]:8.6f}, {U[1,0]:8.6f}]\")\n",
    "print(f\"   Druga oś główna (PC2):     [{U[0,1]:8.6f}, {U[1,1]:8.6f}]\")\n",
    "\n",
    "print(f\"\\n3. DŁUGOŚCI OSI (WARTOŚCI OSOBLIWE):\")\n",
    "print(f\"   Długość osi PC1: {S[0]:.6f}\")\n",
    "print(f\"   Długość osi PC2: {S[1]:.6f}\")\n",
    "\n",
    "print(f\"\\n4. KĄT OBROTU GŁÓWNEJ OSI:\")\n",
    "print(f\"   θ = {rotation_angle:.6f} rad\")\n",
    "print(f\"   θ = {rotation_angle_deg:.2f}°\")\n",
    "\n",
    "print(f\"\\n5. WARIANCJA WYJAŚNIANA:\")\n",
    "print(f\"   PC1: {variance_ratio[0]*100:.2f}%\")\n",
    "print(f\"   PC2: {variance_ratio[1]*100:.2f}%\")\n",
    "\n",
    "print(f\"\\n6. LICZBA PUNKTÓW: {n_points}\")\n",
    "print(\"=\"*60)"
   ]
  }
 ],
 "metadata": {
  "language_info": {
   "name": "python"
  }
 },
 "nbformat": 4,
 "nbformat_minor": 5
}
