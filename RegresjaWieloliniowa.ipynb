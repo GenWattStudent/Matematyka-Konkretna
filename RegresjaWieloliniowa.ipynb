{
 "cells": [
  {
   "cell_type": "markdown",
   "id": "3cb43ff9",
   "metadata": {},
   "source": [
    "Zadanie dotyczy obliczenia wieleliniowej regresji z użyciem macierzy psewdoodwrotnej dla zależności\n",
    "\n",
    "$y=a*x_1 + b*x_2,$   \n",
    "\n",
    "\n",
    "gdzie a, b są niewiadome, wartości $x_1,x_2,y_2$ określone wariantem zadania."
   ]
  },
  {
   "cell_type": "code",
   "execution_count": 19,
   "id": "94b37fa9",
   "metadata": {},
   "outputs": [],
   "source": [
    "import pandas as pd\n",
    "import numpy as np\n",
    "import matplotlib.pyplot as plt"
   ]
  },
  {
   "cell_type": "code",
   "execution_count": 20,
   "id": "5ab0cd34",
   "metadata": {},
   "outputs": [
    {
     "name": "stdout",
     "output_type": "stream",
     "text": [
      "   x1  x2    y\n",
      "0   1   2  0.0\n",
      "1   3   6  0.0\n",
      "2   5  10  0.0\n",
      "3   7  14  0.0\n",
      "4   9  18  0.0\n"
     ]
    }
   ],
   "source": [
    "data = pd.read_csv('war4.csv', sep=';', decimal=',')\n",
    "\n",
    "print(data.head())"
   ]
  },
  {
   "cell_type": "code",
   "execution_count": 21,
   "id": "4ec9a4b2",
   "metadata": {},
   "outputs": [
    {
     "name": "stdout",
     "output_type": "stream",
     "text": [
      "Coefficients a, b: [0. 0.]\n"
     ]
    },
    {
     "data": {
      "image/png": "[encoded data removed]",
      "text/plain": [
       "<Figure size 640x480 with 1 Axes>"
      ]
     },
     "metadata": {},
     "output_type": "display_data"
    }
   ],
   "source": [
    "# Extract data\n",
    "x1 = data['x1'].values\n",
    "x2 = data['x2'].values\n",
    "y = data['y'].values\n",
    "\n",
    "# Form matrices\n",
    "A = np.column_stack((x1, x2))\n",
    "b = y\n",
    "\n",
    "# Solve using SVD\n",
    "U, S, VT = np.linalg.svd(A, full_matrices=False)\n",
    "x = VT.T @ np.linalg.inv(np.diag(S)) @ U.T @ b\n",
    "\n",
    "print(\"Coefficients a, b:\", x)\n",
    "\n",
    "# Plot\n",
    "plt.plot(b, color='k', linewidth=2, label='Data')\n",
    "plt.plot(A @ x, '-o', color='r', label='Regression')\n",
    "plt.legend()\n",
    "plt.show()"
   ]
  },
  {
   "cell_type": "markdown",
   "id": "72a08f73",
   "metadata": {},
   "source": [
    "## Wyniki regresji\n",
    "\n",
    "Współczynniki regresji: a = 0, b = 0\n",
    "\n",
    "Ponieważ wszystkie wartości y wynoszą 0, model regresji liniowej daje współczynniki równe 0."
   ]
  }
 ],
 "metadata": {
  "kernelspec": {
   "display_name": "Python 3",
   "language": "python",
   "name": "python3"
  },
  "language_info": {
   "codemirror_mode": {
    "name": "ipython",
    "version": 3
   },
   "file_extension": ".py",
   "mimetype": "text/x-python",
   "name": "python",
   "nbconvert_exporter": "python",
   "pygments_lexer": "ipython3",
   "version": "3.12.3"
  }
 },
 "nbformat": 4,
 "nbformat_minor": 5
}
